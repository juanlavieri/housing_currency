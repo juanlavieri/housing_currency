{
 "cells": [
  {
   "cell_type": "markdown",
   "id": "0acf83dd",
   "metadata": {},
   "source": [
    "## Extract the Data"
   ]
  },
  {
   "cell_type": "code",
   "execution_count": null,
   "id": "bd3e0bac",
   "metadata": {},
   "outputs": [],
   "source": [
    "# Code to extract Bitcoin prices data\n",
    "# Example: pd.read_csv('path_to_bitcoin_prices_data.csv')"
   ]
  },
  {
   "cell_type": "markdown",
   "id": "904ee9bd",
   "metadata": {},
   "source": [
    "## Visualize the Data"
   ]
  },
  {
   "cell_type": "code",
   "execution_count": null,
   "id": "66d9b027",
   "metadata": {},
   "outputs": [],
   "source": [
    "# Code for initial visualization of the Bitcoin prices data\n",
    "# Example: plt.plot(bitcoin_prices_df['Date'], bitcoin_prices_df['Price'])"
   ]
  },
  {
   "cell_type": "markdown",
   "id": "2d60031a",
   "metadata": {},
   "source": [
    "## Cleanse the Data for Prophet"
   ]
  },
  {
   "cell_type": "code",
   "execution_count": null,
   "id": "0d0c5947",
   "metadata": {},
   "outputs": [],
   "source": [
    "# Code to cleanse and prepare the data for Prophet\n",
    "# Example: bitcoin_prices_df_prophet = bitcoin_prices_df[['Date', 'Price']]\n",
    "# bitcoin_prices_df_prophet.rename(columns={'Date': 'ds', 'Price': 'y'}, inplace=True)"
   ]
  },
  {
   "cell_type": "markdown",
   "id": "5be452be",
   "metadata": {},
   "source": [
    "## Visualizations and Predictions with Prophet"
   ]
  },
  {
   "cell_type": "code",
   "execution_count": null,
   "id": "c9e25e44",
   "metadata": {},
   "outputs": [],
   "source": [
    "# Code for making predictions with Prophet and visualizing the results\n",
    "# Example: model = Prophet()\n",
    "# model.fit(bitcoin_prices_df_prophet)\n",
    "# future = model.make_future_dataframe(periods=365)\n",
    "# forecast = model.predict(future)"
   ]
  },
  {
   "cell_type": "markdown",
   "id": "51caeb81",
   "metadata": {},
   "source": [
    "## Extract the Cleansed Data into a CSV"
   ]
  },
  {
   "cell_type": "code",
   "execution_count": null,
   "id": "8e20a7c8",
   "metadata": {},
   "outputs": [],
   "source": [
    "# Code to export the cleansed data to a CSV file\n",
    "# Example: bitcoin_prices_df_prophet.to_csv('cleansed_bitcoin_prices.csv', index=False)"
   ]
  }
 ],
 "metadata": {},
 "nbformat": 4,
 "nbformat_minor": 5
}
