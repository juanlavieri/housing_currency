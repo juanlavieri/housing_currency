{
 "cells": [
  {
   "cell_type": "markdown",
   "id": "7b822ab6",
   "metadata": {},
   "source": [
    "## Extract the Data"
   ]
  },
  {
   "cell_type": "code",
   "execution_count": null,
   "id": "d8fceaab",
   "metadata": {},
   "outputs": [],
   "source": [
    "# Code to extract U.S. Housing Prices data\n",
    "# Example: pd.read_csv('path_to_housing_prices_data.csv')"
   ]
  },
  {
   "cell_type": "markdown",
   "id": "1d53211d",
   "metadata": {},
   "source": [
    "## Visualize the Data"
   ]
  },
  {
   "cell_type": "code",
   "execution_count": null,
   "id": "fb7ae679",
   "metadata": {},
   "outputs": [],
   "source": [
    "# Code for initial visualization of the U.S. Housing Prices data\n",
    "# Example: plt.plot(housing_prices_df['Date'], housing_prices_df['Price'])"
   ]
  },
  {
   "cell_type": "markdown",
   "id": "e3c9f2b9",
   "metadata": {},
   "source": [
    "## Cleanse the Data for Prophet"
   ]
  },
  {
   "cell_type": "code",
   "execution_count": null,
   "id": "90ddec4c",
   "metadata": {},
   "outputs": [],
   "source": [
    "# Code to cleanse and prepare the data for Prophet\n",
    "# Example: housing_prices_df_prophet = housing_prices_df[['Date', 'Price']]\n",
    "# housing_prices_df_prophet.rename(columns={'Date': 'ds', 'Price': 'y'}, inplace=True)"
   ]
  },
  {
   "cell_type": "markdown",
   "id": "40e5b8c8",
   "metadata": {},
   "source": [
    "## Visualizations and Predictions with Prophet"
   ]
  },
  {
   "cell_type": "code",
   "execution_count": null,
   "id": "f6fbb4f7",
   "metadata": {},
   "outputs": [],
   "source": [
    "# Code for making predictions with Prophet and visualizing the results\n",
    "# Example: model = Prophet()\n",
    "# model.fit(housing_prices_df_prophet)\n",
    "# future = model.make_future_dataframe(periods=365)\n",
    "# forecast = model.predict(future)"
   ]
  },
  {
   "cell_type": "markdown",
   "id": "20bf2ca8",
   "metadata": {},
   "source": [
    "## Extract the Cleansed Data into a CSV"
   ]
  },
  {
   "cell_type": "code",
   "execution_count": null,
   "id": "7a359636",
   "metadata": {},
   "outputs": [],
   "source": [
    "# Code to export the cleansed data to a CSV file\n",
    "# Example: housing_prices_df_prophet.to_csv('cleansed_housing_prices.csv', index=False)"
   ]
  }
 ],
 "metadata": {},
 "nbformat": 4,
 "nbformat_minor": 5
}
