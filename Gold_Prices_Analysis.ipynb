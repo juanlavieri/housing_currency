{
 "cells": [
  {
   "cell_type": "code",
   "execution_count": 10,
   "id": "c339d8e6",
   "metadata": {},
   "outputs": [
    {
     "ename": "ModuleNotFoundError",
     "evalue": "No module named 'pandas'",
     "output_type": "error",
     "traceback": [
      "\u001b[1;31m---------------------------------------------------------------------------\u001b[0m",
      "\u001b[1;31mModuleNotFoundError\u001b[0m                       Traceback (most recent call last)",
      "Cell \u001b[1;32mIn[10], line 1\u001b[0m\n\u001b[1;32m----> 1\u001b[0m \u001b[38;5;28;01mimport\u001b[39;00m \u001b[38;5;21;01mpandas\u001b[39;00m \u001b[38;5;28;01mas\u001b[39;00m \u001b[38;5;21;01mpd\u001b[39;00m\n\u001b[0;32m      2\u001b[0m \u001b[38;5;28;01mimport\u001b[39;00m \u001b[38;5;21;01mmatplotlib\u001b[39;00m\u001b[38;5;21;01m.\u001b[39;00m\u001b[38;5;21;01mpyplot\u001b[39;00m \u001b[38;5;28;01mas\u001b[39;00m \u001b[38;5;21;01mplt\u001b[39;00m\n\u001b[0;32m      3\u001b[0m \u001b[38;5;28;01mimport\u001b[39;00m \u001b[38;5;21;01minvestpy\u001b[39;00m\n",
      "\u001b[1;31mModuleNotFoundError\u001b[0m: No module named 'pandas'"
     ]
    }
   ],
   "source": [
    "import pandas as pd\n",
    "import matplotlib.pyplot as plt\n",
    "import investpy\n",
    "import numpy as np\n",
    "import investpy\n",
    "from prophet import Prophet \n",
    "\n",
    "\n"
   ]
  },
  {
   "cell_type": "markdown",
   "id": "6c5d953e",
   "metadata": {},
   "source": [
    "## Extract the Data"
   ]
  },
  {
   "cell_type": "code",
   "execution_count": 7,
   "id": "c78da1b9",
   "metadata": {},
   "outputs": [
    {
     "ename": "NameError",
     "evalue": "name 'investpy' is not defined",
     "output_type": "error",
     "traceback": [
      "\u001b[1;31m---------------------------------------------------------------------------\u001b[0m",
      "\u001b[1;31mNameError\u001b[0m                                 Traceback (most recent call last)",
      "Cell \u001b[1;32mIn[7], line 2\u001b[0m\n\u001b[0;32m      1\u001b[0m \u001b[38;5;66;03m# Code to extract gold prices data\u001b[39;00m\n\u001b[1;32m----> 2\u001b[0m gold_prices_df \u001b[38;5;241m=\u001b[39m \u001b[43minvestpy\u001b[49m\u001b[38;5;241m.\u001b[39mget_commodity_historical_data(commodity\u001b[38;5;241m=\u001b[39m\u001b[38;5;124m'\u001b[39m\u001b[38;5;124mgold\u001b[39m\u001b[38;5;124m'\u001b[39m, from_date\u001b[38;5;241m=\u001b[39m\u001b[38;5;124m'\u001b[39m\u001b[38;5;124m01/01/2010\u001b[39m\u001b[38;5;124m'\u001b[39m, to_date\u001b[38;5;241m=\u001b[39m\u001b[38;5;124m'\u001b[39m\u001b[38;5;124m01/01/2020\u001b[39m\u001b[38;5;124m'\u001b[39m)\n\u001b[0;32m      4\u001b[0m \u001b[38;5;66;03m# Display the extracted data\u001b[39;00m\n\u001b[0;32m      5\u001b[0m \u001b[38;5;28mprint\u001b[39m(gold_prices_df)\n",
      "\u001b[1;31mNameError\u001b[0m: name 'investpy' is not defined"
     ]
    }
   ],
   "source": [
    "# Code to extract gold prices data\n",
    "def get_gold_prices(start_date, end_date):\n",
    "    gold_data = investpy.get_commodity_historical_data(\n",
    "        commodity='gold',\n",
    "        from_date=start_date,\n",
    "        to_date=end_date\n",
    "    )\n",
    "    return gold_data\n",
    "start_date = '01/01/2000'\n",
    "end_date = '01/01/2023'\n",
    "gold_prices_df = get_gold_prices(start_date, end_date).\n",
    "\n",
    "\n",
    "# Display the extracted data\n",
    "print(gold_prices_df)\n"
   ]
  },
  {
   "cell_type": "markdown",
   "id": "b7b2e246",
   "metadata": {},
   "source": [
    "## Visualize the Data"
   ]
  },
  {
   "cell_type": "code",
   "execution_count": 8,
   "id": "f4b3c699",
   "metadata": {},
   "outputs": [
    {
     "ename": "NameError",
     "evalue": "name 'plt' is not defined",
     "output_type": "error",
     "traceback": [
      "\u001b[1;31m---------------------------------------------------------------------------\u001b[0m",
      "\u001b[1;31mNameError\u001b[0m                                 Traceback (most recent call last)",
      "Cell \u001b[1;32mIn[8], line 2\u001b[0m\n\u001b[0;32m      1\u001b[0m \u001b[38;5;66;03m# Code for initial visualization of the gold prices data\u001b[39;00m\n\u001b[1;32m----> 2\u001b[0m \u001b[43mplt\u001b[49m\u001b[38;5;241m.\u001b[39mfigure(figsize\u001b[38;5;241m=\u001b[39m(\u001b[38;5;241m10\u001b[39m,\u001b[38;5;241m5\u001b[39m))\n\u001b[0;32m      3\u001b[0m plt\u001b[38;5;241m.\u001b[39mplot(gold_prices_df\u001b[38;5;241m.\u001b[39mClose)\n\u001b[0;32m      4\u001b[0m plt\u001b[38;5;241m.\u001b[39mtitle(\u001b[38;5;124m\"\u001b[39m\u001b[38;5;124mGold Prices\u001b[39m\u001b[38;5;124m\"\u001b[39m)\n",
      "\u001b[1;31mNameError\u001b[0m: name 'plt' is not defined"
     ]
    }
   ],
   "source": [
    "# Code for initial visualization of the gold prices data\n",
    "plt.plot(gold_prices_df.index, gold_prices_df['Close'])\n",
    "plt.title('Gold Prices Over Time')\n",
    "plt.xlabel('Date')\n",
    "plt.ylabel('Price')\n",
    "plt.show()\n",
    "\n",
    "\n"
   ]
  },
  {
   "cell_type": "markdown",
   "id": "6d1c06c3",
   "metadata": {},
   "source": [
    "## Cleanse the Data for Prophet"
   ]
  },
  {
   "cell_type": "code",
   "execution_count": null,
   "id": "bebe59dd",
   "metadata": {},
   "outputs": [],
   "source": [
    "# Code to cleanse and prepare the data for Prophet\n",
    "gold_prices_df = gold_prices_df.reset_index()\n",
    "gold_prices_df = gold_prices_df.rename(columns = {'Date':'ds', 'Close':'y'})\n",
    "gold_prices_df = gold_prices_df[['ds','y']]\n",
    "print(gold_prices_df)\n",
    "\n"
   ]
  },
  {
   "cell_type": "markdown",
   "id": "ac897281",
   "metadata": {},
   "source": [
    "## Visualizations and Predictions with Prophet"
   ]
  },
  {
   "cell_type": "code",
   "execution_count": null,
   "id": "1e83dfb8",
   "metadata": {},
   "outputs": [],
   "source": [
    "# Code for making predictions with Prophet and visualizing the results\n",
    "gold_prices_df_prophet = gold_prices_df[['Close']].reset_index()\n",
    "gold_prices_df_prophet.rename(columns={'Date': 'ds', 'Close': 'y'}, inplace=True)\n"
   ]
  },
  {
   "cell_type": "markdown",
   "id": "1ffa2357",
   "metadata": {},
   "source": [
    "## Extract the Cleansed Data into a CSV"
   ]
  },
  {
   "cell_type": "code",
   "execution_count": null,
   "id": "6fe043e4",
   "metadata": {},
   "outputs": [],
   "source": [
    "# Code to export the cleansed data to a CSV file\n",
    "gold_prices_df_prophet.to_csv('cleansed_gold_prices.csv', index=False)"
   ]
  }
 ],
 "metadata": {
  "kernelspec": {
   "display_name": "Python 3 (ipykernel)",
   "language": "python",
   "name": "python3"
  },
  "language_info": {
   "codemirror_mode": {
    "name": "ipython",
    "version": 3
   },
   "file_extension": ".py",
   "mimetype": "text/x-python",
   "name": "python",
   "nbconvert_exporter": "python",
   "pygments_lexer": "ipython3",
   "version": "3.11.5"
  }
 },
 "nbformat": 4,
 "nbformat_minor": 5
}
